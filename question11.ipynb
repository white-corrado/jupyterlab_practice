{
 "cells": [
  {
   "cell_type": "markdown",
   "id": "0695dd14-8f5f-4500-889a-cca86a1713de",
   "metadata": {},
   "source": [
    "# Notebook for assignment 7"
   ]
  },
  {
   "cell_type": "code",
   "execution_count": 5,
   "id": "b590cfb7-3182-4008-853a-26716616a100",
   "metadata": {},
   "outputs": [
    {
     "data": {
      "text/plain": [
       "5.0"
      ]
     },
     "execution_count": 5,
     "metadata": {},
     "output_type": "execute_result"
    }
   ],
   "source": [
    "def compute_mean(numbers_list):\n",
    "    total = 0\n",
    "    for number in numbers_list:\n",
    "        total += number\n",
    "        \n",
    "    return total/len(numbers_list)\n",
    "\n",
    "compute_mean([2, 4, 6, 8])"
   ]
  },
  {
   "cell_type": "markdown",
   "id": "5ca6cd95-c7e9-45ed-a251-87434343484e",
   "metadata": {},
   "source": [
    "The `compute_mean()` function returns the mean of a list of real numbers using the following logic:\n",
    "\n",
    "$\\overline{x}$ = $\\frac{x_1 + x_2 + ... x_n}{n}$\n",
    "\n",
    "or\n",
    "\n",
    "$\\overline{x}$ = $\\frac{1}{n} \\bigg(\\sum_{i=1}^{n} x_i \\bigg)$\n",
    "\n",
    "where $x_i$ is the _$i-th$_ number in the list and _$n$_ is the number of element in the list.\n"
   ]
  },
  {
   "cell_type": "code",
   "execution_count": null,
   "id": "3ce4e3e4-7a66-4ee9-9f7c-5f15b59e0508",
   "metadata": {},
   "outputs": [],
   "source": []
  }
 ],
 "metadata": {
  "kernelspec": {
   "display_name": "Python [conda env:base] *",
   "language": "python",
   "name": "conda-base-py"
  },
  "language_info": {
   "codemirror_mode": {
    "name": "ipython",
    "version": 3
   },
   "file_extension": ".py",
   "mimetype": "text/x-python",
   "name": "python",
   "nbconvert_exporter": "python",
   "pygments_lexer": "ipython3",
   "version": "3.13.5"
  }
 },
 "nbformat": 4,
 "nbformat_minor": 5
}
